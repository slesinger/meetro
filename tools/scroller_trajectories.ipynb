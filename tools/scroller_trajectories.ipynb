{
 "cells": [
  {
   "cell_type": "markdown",
   "metadata": {},
   "source": [
    "# Generate scroller points\n",
    "\n",
    "There must be 1024 points. Each point has x-lo, y-lo, x-hi nybble positions.\n"
   ]
  },
  {
   "cell_type": "code",
   "execution_count": null,
   "metadata": {},
   "outputs": [],
   "source": [
    "class Point:\n",
    "    x: float\n",
    "    y: float\n",
    "\n",
    "    def print(self) -> str:\n",
    "        return f\"{str(round(self.x) % 256)}, {str(round(self.y))}, {str(round(self.x / 256))}\"\n",
    "\n",
    "    def test(self):\n",
    "        print( )\n"
   ]
  },
  {
   "cell_type": "code",
   "execution_count": null,
   "metadata": {},
   "outputs": [],
   "source": []
  }
 ],
 "metadata": {
  "language_info": {
   "name": "python"
  }
 },
 "nbformat": 4,
 "nbformat_minor": 2
}
