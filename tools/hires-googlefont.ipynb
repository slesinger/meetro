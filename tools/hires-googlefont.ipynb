{
 "cells": [
  {
   "cell_type": "markdown",
   "metadata": {},
   "source": [
    "# Hires"
   ]
  },
  {
   "cell_type": "code",
   "execution_count": 6,
   "metadata": {},
   "outputs": [],
   "source": [
    "from matplotlib import pyplot as plt\n",
    "import imageio.v3 as iio\n",
    "import numpy as np\n",
    "\n",
    "im = iio.imread('assets/googlefont.png')\n",
    "# print(im.shape)\n",
    "\n",
    "# The font image has 32 characters in 1 row (768px wide).\n",
    "# This program will extract characters to 3x4 chars big characters\n",
    "\n",
    "# Pad the image to be divisible by 8\n",
    "width = im.shape[1]\n",
    "height = im.shape[0]\n",
    "NUM_CHARS = 32\n",
    "assert width == NUM_CHARS*3*8\n",
    "assert height == 4*8\n",
    "assert np.all(np.isin(im, [0, 255]))  # assert that each pixel in the image has value 0 or 255. Others are not allowed\n",
    "height = 25 * 8\n",
    "output = bytearray()\n",
    "# output.append(0x00)  # load at 0x4000\n",
    "# output.append(0x40)\n",
    "\n",
    "character_width = 3*8  # 3 chars x 8 pixels\n",
    "character_height = 4*8  # 4 chars x 8 pixels\n"
   ]
  },
  {
   "cell_type": "code",
   "execution_count": 7,
   "metadata": {},
   "outputs": [],
   "source": [
    "def ch8x8_to_list(data: np.ndarray) -> bytearray:\n",
    "    assert data.shape == (8, 8)\n",
    "    result = bytearray()\n",
    "    for y in range(8):  # Take 8 pixels of the line\n",
    "        # take 8 pixels of current line, consider value 0 as 0 and value 255 as 1 and make it an 8-bit number\n",
    "        byte: int = 0\n",
    "        for x in range(8):\n",
    "            byte = byte << 1\n",
    "            byte = byte | (data[y, x] & 1)  #  byte | (~data[y, x] & 1)\n",
    "        result.append(byte)\n",
    "    return result"
   ]
  },
  {
   "cell_type": "code",
   "execution_count": 8,
   "metadata": {},
   "outputs": [],
   "source": [
    "\n",
    "for character in range(NUM_CHARS):  # NUM_CHARS\n",
    "    pos_in_image_x = character * character_width\n",
    "    # copy character from image to numpy array\n",
    "    char_src = im[0:character_height, pos_in_image_x:pos_in_image_x+character_width, 0]\n",
    "    # plt.imshow(char_src, cmap='gray')\n",
    "    \n",
    "    # iterate over hieght of character\n",
    "    for cy in range(4):  #(int(height/8)):\n",
    "        for cx in range(3):\n",
    "                # copy 8x8 pixels from char_src to char8x8 array\n",
    "                char8x8 = char_src[cy*8:cy*8+8, cx*8:cx*8+8]\n",
    "                output.extend(ch8x8_to_list(char8x8))\n",
    "\n",
    "\n",
    "\n",
    "# Save output to binary file with .hires extension\n",
    "with open('../data/googlefont.bin', 'wb') as f:\n",
    "    f.write(bytes(output))\n",
    "\n"
   ]
  }
 ],
 "metadata": {
  "kernelspec": {
   "display_name": "venv",
   "language": "python",
   "name": "python3"
  },
  "language_info": {
   "codemirror_mode": {
    "name": "ipython",
    "version": 3
   },
   "file_extension": ".py",
   "mimetype": "text/x-python",
   "name": "python",
   "nbconvert_exporter": "python",
   "pygments_lexer": "ipython3",
   "version": "3.10.12"
  }
 },
 "nbformat": 4,
 "nbformat_minor": 2
}
