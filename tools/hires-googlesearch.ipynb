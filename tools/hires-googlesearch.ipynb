{
 "cells": [
  {
   "cell_type": "markdown",
   "metadata": {},
   "source": [
    "# Hires"
   ]
  },
  {
   "cell_type": "code",
   "execution_count": 35,
   "metadata": {},
   "outputs": [],
   "source": [
    "from matplotlib import pyplot as plt\n",
    "import imageio.v3 as iio\n",
    "import numpy as np\n",
    "import os\n",
    "\n",
    "im = iio.imread('assets/googlesearch.png')\n",
    "output_bin_fn = '../data/googlesearch.bin'\n",
    "# print(im.shape)\n",
    "\n",
    "# The font image has 32 characters in 1 row (768px wide).\n",
    "# This program will extract characters to 3x4 chars big characters\n",
    "\n",
    "# Pad the image to be divisible by 8\n",
    "width = im.shape[1]\n",
    "height = im.shape[0]\n",
    "assert width == 320 and height == 200\n",
    "assert np.all(np.isin(im, [0, 255]))  # assert that each pixel in the image has value 0 or 255. Others are not allowed\n",
    "output = bytearray()\n",
    "\n",
    "# potrebujeme 10x11 pixelu pro levy okraj s lupou, takza 2x3 charactery. Je potreba, aby se do okenka nechalo psat.\n",
    "# (6 prazdnych radek a 2 radky okraje), (8 radek prostredku) a (1 radek okraje a 7 prazdnych radku)\n",
    "# x1 a y1 ukazuji ne levyhorni roh vyrezu.\n"
   ]
  },
  {
   "cell_type": "code",
   "execution_count": 36,
   "metadata": {},
   "outputs": [],
   "source": [
    "def ch8x8_to_list(data: np.ndarray) -> bytearray:\n",
    "    assert data.shape == (8, 8)\n",
    "    result = bytearray()\n",
    "    for y in range(8):  # Take 8 pixels of the line\n",
    "        # take 8 pixels of current line, consider value 0 as 0 and value 255 as 1 and make it an 8-bit number\n",
    "        byte: int = 0\n",
    "        for x in range(8):\n",
    "            byte = byte << 1\n",
    "            byte = byte | (data[y, x] & 1)  #  byte | (~data[y, x] & 1)\n",
    "        result.append(byte)\n",
    "    return result"
   ]
  },
  {
   "cell_type": "code",
   "execution_count": 39,
   "metadata": {},
   "outputs": [],
   "source": [
    "output = bytearray()\n",
    "\n",
    "# Lupa, 2chars wide, 3chars high\n",
    "x1 = 66\n",
    "y1 = 94\n",
    "output.extend(ch8x8_to_list(im[y1+0*8:y1+0*8+8, x1+0*8:x1+0*8+8, 0]))\n",
    "output.extend(ch8x8_to_list(im[y1+0*8:y1+0*8+8, x1+1*8:x1+1*8+8, 0]))\n",
    "output.extend(ch8x8_to_list(im[y1+0*8:y1+0*8+8, x1+2*8:x1+2*8+8, 0]))\n",
    "\n",
    "output.extend(ch8x8_to_list(im[y1+1*8:y1+1*8+8, x1+0*8:x1+0*8+8, 0]))\n",
    "output.extend(ch8x8_to_list(im[y1+1*8:y1+1*8+8, x1+1*8:x1+1*8+8, 0]))\n",
    "output.extend(ch8x8_to_list(im[y1+1*8:y1+1*8+8, x1+2*8:x1+2*8+8, 0]))\n",
    "\n",
    "output.extend(ch8x8_to_list(im[y1+2*8:y1+2*8+8, x1+0*8:x1+0*8+8, 0]))\n",
    "output.extend(ch8x8_to_list(im[y1+2*8:y1+2*8+8, x1+1*8:x1+1*8+8, 0]))\n",
    "output.extend(ch8x8_to_list(im[y1+2*8:y1+2*8+8, x1+2*8:x1+2*8+8, 0]))\n",
    "\n",
    "# Mikrophone pravy, 3chars wide, 3chars high\n",
    "x1 = 226\n",
    "y1 = 94\n",
    "output.extend(ch8x8_to_list(im[y1+0*8:y1+0*8+8, x1+0*8:x1+0*8+8, 0]))\n",
    "output.extend(ch8x8_to_list(im[y1+0*8:y1+0*8+8, x1+1*8:x1+1*8+8, 0]))\n",
    "output.extend(ch8x8_to_list(im[y1+0*8:y1+0*8+8, x1+2*8:x1+2*8+8, 0]))\n",
    "\n",
    "output.extend(ch8x8_to_list(im[y1+1*8:y1+1*8+8, x1+0*8:x1+0*8+8, 0]))\n",
    "output.extend(ch8x8_to_list(im[y1+1*8:y1+1*8+8, x1+1*8:x1+1*8+8, 0]))\n",
    "output.extend(ch8x8_to_list(im[y1+1*8:y1+1*8+8, x1+2*8:x1+2*8+8, 0]))\n",
    "\n",
    "output.extend(ch8x8_to_list(im[y1+2*8:y1+2*8+8, x1+0*8:x1+0*8+8, 0]))\n",
    "output.extend(ch8x8_to_list(im[y1+2*8:y1+2*8+8, x1+1*8:x1+1*8+8, 0]))\n",
    "output.extend(ch8x8_to_list(im[y1+2*8:y1+2*8+8, x1+2*8:x1+2*8+8, 0]))\n",
    "\n",
    "# Delete bin file if exists\n",
    "if os.path.exists(output_bin_fn):\n",
    "    os.remove(output_bin_fn)\n",
    "# Save output to binary file with .hires extension\n",
    "with open(output_bin_fn, 'wb') as f:\n",
    "    f.write(bytes(output))\n",
    "\n"
   ]
  }
 ],
 "metadata": {
  "kernelspec": {
   "display_name": "venv",
   "language": "python",
   "name": "python3"
  },
  "language_info": {
   "codemirror_mode": {
    "name": "ipython",
    "version": 3
   },
   "file_extension": ".py",
   "mimetype": "text/x-python",
   "name": "python",
   "nbconvert_exporter": "python",
   "pygments_lexer": "ipython3",
   "version": "3.10.12"
  }
 },
 "nbformat": 4,
 "nbformat_minor": 2
}
