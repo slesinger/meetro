{
 "cells": [
  {
   "cell_type": "markdown",
   "metadata": {},
   "source": [
    "# Generate timeline how characters pop on screen\n",
    "\n",
    "> C64 is the best\n"
   ]
  },
  {
   "cell_type": "code",
   "execution_count": 1,
   "metadata": {},
   "outputs": [],
   "source": [
    "from enum import Enum\n",
    "class UEnum(Enum):\n",
    "    USPACE = 0\n",
    "    UA = 1\n",
    "    UB = 2\n",
    "    UC = 3\n",
    "    UD = 4\n",
    "    UE = 5\n",
    "    UF = 6\n",
    "    UG = 7\n",
    "    UH = 8\n",
    "    UI = 9\n",
    "    UJ = 10\n",
    "    UK = 11\n",
    "    UL = 12\n",
    "    UM = 13\n",
    "    UN = 14\n",
    "    UO = 15\n",
    "    UP = 16\n",
    "    UQ = 17\n",
    "    UR = 18\n",
    "    US = 19\n",
    "    UT = 20\n",
    "    UU = 21\n",
    "    UV = 22\n",
    "    UW = 23\n",
    "    UX = 24\n",
    "    UY = 25\n",
    "    UZ = 26\n",
    "    UHH = 27\n",
    "    U2 = 28\n",
    "    UDOT = 29\n",
    "    UQUESTION = 30\n",
    "    UPLUS = 31\n",
    "\n",
    "# C64 colors\n",
    "BLACK = 0\n",
    "WHITE = 1\n",
    "RED = 2\n",
    "GREEN = 5\n",
    "BLUE = 6\n",
    "YELLOW = 7\n",
    "ORANGE = 8\n",
    "DARK_GRAY = 11\n",
    "GRAY = 12\n",
    "LIGHT_GRAY = 15\n",
    "\n",
    "\n",
    "SCREEN_WIDTH = 12\n",
    "SCREEN_HEIGHT = 5\n",
    "QUESTIONMARK_COUNT = 32\n",
    "RAND_CHARS_COUNT = 256-SCREEN_WIDTH*SCREEN_HEIGHT-7-1+QUESTIONMARK_COUNT-1\n"
   ]
  },
  {
   "cell_type": "code",
   "execution_count": 2,
   "metadata": {},
   "outputs": [],
   "source": [
    "class UpdateItem:\n",
    "    def __init__(self, ch, x, y, color):\n",
    "        self.ch = ch\n",
    "        self.x = x\n",
    "        self.y = y\n",
    "        self.color = color\n",
    "\n",
    "    # def __str__(self):\n",
    "    #     return f\"UpdateItem(ch={self.ch}, \\t\\tx={self.x}, y={self.y}, \\tcolor={self.color})\"\n",
    "    \n",
    "    def code(self, step) -> str:\n",
    "        return f\".eval update_timeline.set({step}, UpdateItem({str(self.ch).replace('UEnum.', '')}, {self.x}, {self.y}, screen_color(WHITE, {self.color})))\""
   ]
  },
  {
   "cell_type": "code",
   "execution_count": 3,
   "metadata": {},
   "outputs": [
    {
     "ename": "IndexError",
     "evalue": "list index out of range",
     "output_type": "error",
     "traceback": [
      "\u001b[0;31m---------------------------------------------------------------------------\u001b[0m",
      "\u001b[0;31mIndexError\u001b[0m                                Traceback (most recent call last)",
      "Cell \u001b[0;32mIn[3], line 49\u001b[0m\n\u001b[1;32m     46\u001b[0m sz \u001b[38;5;241m=\u001b[39m \u001b[38;5;28mlen\u001b[39m(occupied_positions)\n\u001b[1;32m     47\u001b[0m \u001b[38;5;28;01mfor\u001b[39;00m _ \u001b[38;5;129;01min\u001b[39;00m \u001b[38;5;28mrange\u001b[39m(sz\u001b[38;5;241m+\u001b[39m\u001b[38;5;241m1\u001b[39m):\n\u001b[1;32m     48\u001b[0m     \u001b[38;5;66;03m# Take random item from occupied_positions\u001b[39;00m\n\u001b[0;32m---> 49\u001b[0m     occupied_item \u001b[38;5;241m=\u001b[39m \u001b[43mrandom\u001b[49m\u001b[38;5;241;43m.\u001b[39;49m\u001b[43mchoice\u001b[49m\u001b[43m(\u001b[49m\u001b[38;5;28;43mlist\u001b[39;49m\u001b[43m(\u001b[49m\u001b[43moccupied_positions\u001b[49m\u001b[43m)\u001b[49m\u001b[43m)\u001b[49m    \n\u001b[1;32m     50\u001b[0m     update_items\u001b[38;5;241m.\u001b[39mappend(UpdateItem(UEnum\u001b[38;5;241m.\u001b[39mUSPACE, occupied_item[\u001b[38;5;241m0\u001b[39m], occupied_item[\u001b[38;5;241m1\u001b[39m], BLACK))\n\u001b[1;32m     51\u001b[0m     occupied_positions\u001b[38;5;241m.\u001b[39mremove(occupied_item)\n",
      "File \u001b[0;32m/usr/lib/python3.10/random.py:378\u001b[0m, in \u001b[0;36mRandom.choice\u001b[0;34m(self, seq)\u001b[0m\n\u001b[1;32m    376\u001b[0m \u001b[38;5;250m\u001b[39m\u001b[38;5;124;03m\"\"\"Choose a random element from a non-empty sequence.\"\"\"\u001b[39;00m\n\u001b[1;32m    377\u001b[0m \u001b[38;5;66;03m# raises IndexError if seq is empty\u001b[39;00m\n\u001b[0;32m--> 378\u001b[0m \u001b[38;5;28;01mreturn\u001b[39;00m \u001b[43mseq\u001b[49m\u001b[43m[\u001b[49m\u001b[38;5;28;43mself\u001b[39;49m\u001b[38;5;241;43m.\u001b[39;49m\u001b[43m_randbelow\u001b[49m\u001b[43m(\u001b[49m\u001b[38;5;28;43mlen\u001b[39;49m\u001b[43m(\u001b[49m\u001b[43mseq\u001b[49m\u001b[43m)\u001b[49m\u001b[43m)\u001b[49m\u001b[43m]\u001b[49m\n",
      "\u001b[0;31mIndexError\u001b[0m: list index out of range"
     ]
    }
   ],
   "source": [
    "# Allocate list of UpdateItem objects\n",
    "# Each item is one step in a timeline\n",
    "# First QUESTIONMARK_COUNT steps will always use UQUESTION as the character\n",
    "# x is random integer from <0,SCREEN_WIDTH) and y is random integer from <0,SCREEN_HEIGHT)\n",
    "# color is from [0, 11, 12, 15]\n",
    "# Next steps will use random character from UEnum except of [USPACE, UHH, UDOT, UQUESTION]\n",
    "\n",
    "# Step 1: Allocate list of UpdateItem objects\n",
    "import random\n",
    "update_items = []\n",
    "\n",
    "# Step 2: First QUESTIONMARK_COUNT steps with UQUESTION\n",
    "for _ in range(QUESTIONMARK_COUNT):\n",
    "    while True:\n",
    "        x = random.randint(0, SCREEN_WIDTH - 1)\n",
    "        y = random.randint(0, SCREEN_HEIGHT - 1)\n",
    "        if not (y == 2 and 3 <= x <= 9):\n",
    "            break\n",
    "    color = random.choice([0, 11, 12, 15])\n",
    "    update_items.append(UpdateItem(UEnum.UQUESTION, x, y, color))\n",
    "\n",
    "# Step 3: Next steps with random character from UEnum except [USPACE, UHH, UDOT, UQUESTION]\n",
    "excluded_chars = {UEnum.USPACE, UEnum.UHH, UEnum.UDOT, UEnum.UQUESTION}\n",
    "valid_chars = [char for char in UEnum if char not in excluded_chars]\n",
    "occupied_positions = set()\n",
    "\n",
    "for idx, _ in enumerate(range(QUESTIONMARK_COUNT, RAND_CHARS_COUNT)):\n",
    "    char = random.choice(valid_chars)\n",
    "    # Generate unique (x, y) coordinates\n",
    "    while True:\n",
    "        x = random.randint(0, SCREEN_WIDTH - 1)\n",
    "        y = random.randint(0, SCREEN_HEIGHT - 1)\n",
    "        if len(occupied_positions) <= (SCREEN_WIDTH*SCREEN_HEIGHT - 7-1):\n",
    "            # screen still not yet full\n",
    "            if (x, y) not in occupied_positions and not (y == 2 and 3 <= x <= 9):\n",
    "                break\n",
    "        else:\n",
    "            # screen full, override existing chars\n",
    "            if not (y == 2 and 3 <= x <= 9):\n",
    "                break\n",
    "    color = random.choice([0, 11, 12, 15])\n",
    "    update_items.append(UpdateItem(char, x, y, color))\n",
    "    occupied_positions.add((x, y))\n",
    "\n",
    "# Step 4: places USPACE randomly to occupied_positions\n",
    "sz = len(occupied_positions)\n",
    "for _ in range(sz):\n",
    "    # Take random item from occupied_positions\n",
    "    occupied_item = random.choice(list(occupied_positions))    \n",
    "    update_items.append(UpdateItem(UEnum.USPACE, occupied_item[0], occupied_item[1], BLACK))\n",
    "    occupied_positions.remove(occupied_item)\n"
   ]
  },
  {
   "cell_type": "code",
   "execution_count": null,
   "metadata": {},
   "outputs": [],
   "source": [
    "for idx, i in enumerate(update_items):\n",
    "    print(i.code(idx))"
   ]
  }
 ],
 "metadata": {
  "kernelspec": {
   "display_name": "Python 3",
   "language": "python",
   "name": "python3"
  },
  "language_info": {
   "codemirror_mode": {
    "name": "ipython",
    "version": 3
   },
   "file_extension": ".py",
   "mimetype": "text/x-python",
   "name": "python",
   "nbconvert_exporter": "python",
   "pygments_lexer": "ipython3",
   "version": "3.10.12"
  }
 },
 "nbformat": 4,
 "nbformat_minor": 2
}
